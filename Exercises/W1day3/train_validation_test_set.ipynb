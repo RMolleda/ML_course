{
 "metadata": {
  "language_info": {
   "codemirror_mode": {
    "name": "ipython",
    "version": 3
   },
   "file_extension": ".py",
   "mimetype": "text/x-python",
   "name": "python",
   "nbconvert_exporter": "python",
   "pygments_lexer": "ipython3",
   "version": "3.9.0-final"
  },
  "orig_nbformat": 2,
  "kernelspec": {
   "name": "python3",
   "display_name": "Python 3.9.0 64-bit",
   "metadata": {
    "interpreter": {
     "hash": "c49414725a10925ce64f1a7c91399f6a4823416942062340df486dba231dfa6d"
    }
   }
  }
 },
 "nbformat": 4,
 "nbformat_minor": 2,
 "cells": [
  {
   "cell_type": "markdown",
   "metadata": {},
   "source": [
    "### 1. \n",
    "\n",
    "Crear una función que reciba cuatro parámetros: una lista 'L', un número 'T', un número 'V' y un booleano 'S'. La función debe devolver otras dos listas: \"lista_train_val\" y \"lista_test\".\n",
    "\n",
    "- \"lista_train_val\" es una lista con dos elementos. Cada elemento es una lista: \"list_train\", que representa el conjunto de entrenamiento y \"list_val\", que representa el conjunto de validación. \n",
    "- \"list_test\" es el conjunto de test. Como mínimo ha de tener 1 elemento (si 'L' > 1).\n",
    "- \"L\" es cualquier lista de elementos. Al principio, entra con un tamaño completo (100%). Esta es la lista que se partirá y se generarán los conjuntos entrenamiento, de validación y de test.\n",
    "- \"T\" es un número entre 1 y 100 que va a representar el tamaño, en porcentaje, del conjunto de test \"list_test\". \n",
    "- \"V\" es un número entre 0 y 100 que va a representar el tamaño, en porcentaje, del conjunto de validación \"list_val\". Su valor por defecto es 0.\n",
    "- \"S\", que por defecto es False, determinará si los conjuntos \"list_train\", \"list_test\" y \"list_val\" están aleatoriamente ordenados. ¿Encuentras alguna posible incoherencia si se reordenan aleatoriamente?\n",
    "\n",
    "Prueba la función con una lista de 100 elementos números aleatorios del 0 al 100. \n",
    "\n",
    "### 2. \n",
    "\n",
    "Rehacer el ejercicio anterior en otra función para que no devuelva dos listas, sino los tres conjuntos: \n",
    "\n",
    "--> return list_train, list_val, list_test "
   ]
  },
  {
   "cell_type": "code",
   "execution_count": 68,
   "metadata": {},
   "outputs": [],
   "source": [
    "import numpy as np \n",
    "data = np.random.randint(0, 100, (100, 1))"
   ]
  },
  {
   "cell_type": "code",
   "execution_count": 85,
   "metadata": {},
   "outputs": [],
   "source": [
    "def func1(L, T, V=0, S=False):\n",
    "    \"\"\"\n",
    "    Creo las listas dentro de la función recibiendo solamente un parametro \"data\" que es de numeros aleatorios del 0 al 100\n",
    "    \"\"\"\n",
    "    list_train = L[:int(len(L)*(1-T))]\n",
    "    list_test = list_train[:int(len(L)*T)]\n",
    "    list_train = list_train[:int(len(list_train)*(1-V))]\n",
    "    list_val = list_train[:int(len(list_train)*V)]\n",
    "    \"\"\"\n",
    "    En caso de que el valor de S sea True, baraja de nuevo todas las listas para devolverlas desordenadas (A pesar de que ya son numeros aleatorios cuando entran)\n",
    "    \"\"\"\n",
    "    if S:\n",
    "        np.random.shuffle(list_train)\n",
    "        np.random.shuffle(list_test)\n",
    "        np.random.shuffle(list_val)\n",
    "    list_train_val = [list_train, list_val]\n",
    "    \n",
    "    return list_train_val\n",
    "\n",
    "func1(L=data, T=0.20, V=0.20, S=True)"
   ]
  },
  {
   "cell_type": "code",
   "execution_count": 84,
   "metadata": {},
   "outputs": [
    {
     "output_type": "execute_result",
     "data": {
      "text/plain": [
       "[array([[87],\n",
       "        [23],\n",
       "        [14],\n",
       "        [47],\n",
       "        [ 9],\n",
       "        [ 3],\n",
       "        [98],\n",
       "        [26],\n",
       "        [ 6],\n",
       "        [ 9],\n",
       "        [ 9],\n",
       "        [ 5],\n",
       "        [93],\n",
       "        [63],\n",
       "        [ 8],\n",
       "        [12],\n",
       "        [21],\n",
       "        [54],\n",
       "        [18],\n",
       "        [73],\n",
       "        [12],\n",
       "        [83],\n",
       "        [38],\n",
       "        [10],\n",
       "        [73],\n",
       "        [30],\n",
       "        [22],\n",
       "        [89],\n",
       "        [84],\n",
       "        [48],\n",
       "        [26],\n",
       "        [32],\n",
       "        [31],\n",
       "        [24],\n",
       "        [72],\n",
       "        [47],\n",
       "        [36],\n",
       "        [17],\n",
       "        [88],\n",
       "        [ 5],\n",
       "        [ 8],\n",
       "        [94],\n",
       "        [65],\n",
       "        [41],\n",
       "        [90],\n",
       "        [64],\n",
       "        [74],\n",
       "        [12],\n",
       "        [24],\n",
       "        [31],\n",
       "        [70],\n",
       "        [ 2],\n",
       "        [36],\n",
       "        [24],\n",
       "        [74],\n",
       "        [32],\n",
       "        [82],\n",
       "        [29],\n",
       "        [77],\n",
       "        [56],\n",
       "        [25],\n",
       "        [61],\n",
       "        [ 5],\n",
       "        [79]]),\n",
       " array([[87],\n",
       "        [23],\n",
       "        [14],\n",
       "        [47],\n",
       "        [ 9],\n",
       "        [ 3],\n",
       "        [98],\n",
       "        [26],\n",
       "        [ 6],\n",
       "        [ 9],\n",
       "        [ 9],\n",
       "        [ 5]])]"
      ]
     },
     "metadata": {},
     "execution_count": 84
    }
   ],
   "source": [
    "func1(L=data, T=0.20, V=0.20, S=True)"
   ]
  },
  {
   "cell_type": "code",
   "execution_count": null,
   "metadata": {},
   "outputs": [],
   "source": []
  },
  {
   "cell_type": "code",
   "execution_count": null,
   "metadata": {},
   "outputs": [],
   "source": []
  }
 ]
}